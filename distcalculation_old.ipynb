{
 "cells": [
  {
   "cell_type": "code",
   "execution_count": null,
   "metadata": {},
   "outputs": [],
   "source": [
    "# Import libraries\n",
    "import os \n",
    "import ee\n",
    "import time\n",
    "import rasterio\n",
    "import math\n",
    "import pyproj\n",
    "import libpysal\n",
    "import networkx as nx\n",
    "import numpy as np\n",
    "import osmnx as ox\n",
    "import pandas as pd\n",
    "import geopandas as gpd\n",
    "from rasterstats import zonal_stats\n",
    "from pylandtemp import single_window\n",
    "from shapely.geometry import Point\n",
    "from shapely.ops import unary_union"
   ]
  },
  {
   "cell_type": "code",
   "execution_count": null,
   "metadata": {},
   "outputs": [],
   "source": [
    "directory = os.getcwd() #Location where files will be saved\n",
    "c = \"/\""
   ]
  },
  {
   "cell_type": "code",
   "execution_count": null,
   "metadata": {},
   "outputs": [],
   "source": [
    "# Download street network\n",
    "G = ox.graph_from_place('Greater Manchester', network_type='drive')\n",
    "\n",
    "# Save to geopackage\n",
    "ox.save_graph_geopackage(G, 'network.gpkg')\n",
    "\n",
    "# Save to graphml\n",
    "ox.io.save_graphml(G, 'network.graphml')"
   ]
  },
  {
   "cell_type": "code",
   "execution_count": null,
   "metadata": {},
   "outputs": [],
   "source": [
    "# Calculating distance variabels to POIs\n",
    "\n",
    "bus_dist_list = []\n",
    "\n",
    "city = 'Greater Manchester'\n",
    "espg = 'EPSG:27700'\n",
    "city_path = directory + c + city\n",
    "\n",
    "# Load in Manchester grid data\n",
    "df = gpd.read_file('popgrid.gpkg')\n",
    "df = df.to_crs(espg)\n",
    "gdf = gpd.GeoDataFrame(df, geometry='geometry')\n",
    "\n",
    "# Load in street network graph\n",
    "G = ox.load_graphml('network.graphml')\n",
    "\n",
    "# Load in bus stops\n",
    "busstop = gpd.read_file('bus_stops.gpkg').to_crs(espg)\n",
    "\n",
    "# Import points as gdf and loop through them\n",
    "for index, point in gdf.iterrows():\n",
    "    polygon_index = busstop.distance(point.geometry).sort_values().index[0]\n",
    "    nearest_bus = busstop.loc[polygon_index].geometry.centroid\n",
    "\n",
    "    # Extract coordinates of point\n",
    "    x, y = point.geometry.centroid.coords.xy\n",
    "    x = x[0]\n",
    "    y = y[0]\n",
    "\n",
    "    # Find closest node\n",
    "    node_counter = ox.distance.nearest_nodes(G, x, y)\n",
    "        \n",
    "    # Extract coordinates of point\n",
    "    xx, yy = nearest_bus.xy\n",
    "    xx = xx[0]\n",
    "    yy = yy[0]\n",
    "        \n",
    "    # Find closest node\n",
    "    node_bus = ox.distance.nearest_nodes(G, xx, yy)\n",
    "\n",
    "    # Calculate shortest path\n",
    "    try:\n",
    "        nx.shortest_path_length(G, node_counter, node_bus)\n",
    "        \n",
    "    except:\n",
    "        s_path = 0\n",
    "        \n",
    "    else:\n",
    "        s_path = nx.shortest_path_length(G, node_counter, node_bus)\n",
    "\n",
    "    bus_dist_list.append(s_path)\n",
    "\n",
    "print(city + ' is done')\n",
    "\n",
    "df['dist_to_busstop'] = bus_dist_list\n",
    "df"
   ]
  },
  {
   "cell_type": "code",
   "execution_count": null,
   "metadata": {},
   "outputs": [],
   "source": [
    "df.to_file('popgriddistance.gpkg', driver='GPKG')"
   ]
  }
 ],
 "metadata": {
  "language_info": {
   "name": "python"
  },
  "orig_nbformat": 4
 },
 "nbformat": 4,
 "nbformat_minor": 2
}
